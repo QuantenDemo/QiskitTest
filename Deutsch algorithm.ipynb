{
 "cells": [
  {
   "cell_type": "code",
   "execution_count": 1,
   "id": "934390fb",
   "metadata": {},
   "outputs": [],
   "source": [
    "from qiskit import QuantumCircuit\n",
    "from qiskit_aer import AerSimulator\n",
    "from qiskit import transpile\n",
    "from qiskit.visualization import plot_histogram"
   ]
  },
  {
   "cell_type": "markdown",
   "id": "58e0b255-1b28-4cee-9770-539d5e3de0fe",
   "metadata": {},
   "source": [
    "##  Deutsch algorithm <a id='deutsch'></a>"
   ]
  },
  {
   "cell_type": "markdown",
   "id": "54966175-6a46-4396-ace1-203e3e8c49f8",
   "metadata": {},
   "source": [
    "### Quantum circuit Deutsch algorithm <a id='deutsch_circuit'></a>\n",
    "\n",
    "\n",
    "\n",
    "<center>\n",
    "    <img src=\"images/Deutsch.png\" width=50%/>\n",
    "</center>\n",
    "\n"
   ]
  },
  {
   "cell_type": "code",
   "execution_count": 14,
   "id": "bdb1868f",
   "metadata": {
    "ExecuteTime": {
     "end_time": "2022-04-19T08:23:29.836679Z",
     "start_time": "2022-04-19T08:23:29.708803Z"
    }
   },
   "outputs": [
    {
     "data": {
      "image/png": "[encoded data removed]",
      "text/plain": [
       "<Figure size 370.906x200.667 with 1 Axes>"
      ]
     },
     "execution_count": 14,
     "metadata": {},
     "output_type": "execute_result"
    }
   ],
   "source": [
    "# Uf (Blackbox)\n",
    "from qiskit import QuantumCircuit\n",
    "Uf = QuantumCircuit(2,name = r'$U_f$')\n",
    "Uf.x(0)\n",
    "Uf.cx(0,1)\n",
    "Uf.x(0)\n",
    "Uf.draw('mpl')"
   ]
  },
  {
   "cell_type": "code",
   "execution_count": 12,
   "id": "ae23f79e",
   "metadata": {
    "ExecuteTime": {
     "end_time": "2022-04-19T08:23:56.415131Z",
     "start_time": "2022-04-19T08:23:56.224641Z"
    }
   },
   "outputs": [
    {
     "data": {
      "image/png": "[encoded data removed]",
      "text/plain": [
       "<Figure size 538.128x284.278 with 1 Axes>"
      ]
     },
     "execution_count": 12,
     "metadata": {},
     "output_type": "execute_result"
    }
   ],
   "source": [
    "### Circuit\n",
    "\n",
    "qc_deutsch = QuantumCircuit(2,1)\n",
    "#qc_deutsch.x(0)\n",
    "qc_deutsch.x(1)  # qbit 1 set to initial state |1>\n",
    "qc_deutsch.h([0,1])  # Hadamard gates applied to qubits 0 and 1 \n",
    "qc_deutsch.append(Uf,[0,1]) # apply circuit Uf\n",
    "qc_deutsch.h(0) # Hadamard gate applied to qubit 0\n",
    "qc_deutsch.measure(0,0) # measure qubit 0\n",
    "qc_deutsch.draw('mpl')"
   ]
  },
  {
   "cell_type": "code",
   "execution_count": 13,
   "id": "7d0f9985",
   "metadata": {
    "ExecuteTime": {
     "end_time": "2022-04-19T08:25:20.962538Z",
     "start_time": "2022-04-19T08:25:20.928628Z"
    }
   },
   "outputs": [
    {
     "name": "stdout",
     "output_type": "stream",
     "text": [
      "Counts: {'0': 1}\n",
      "constant function\n"
     ]
    }
   ],
   "source": [
    "# Simulation\n",
    "\n",
    "backend = AerSimulator()\n",
    "qc_transpiled = transpile(qc_deutsch,backend)\n",
    "job = backend.run(qc_transpiled,shots=1)\n",
    "counts = job.result().get_counts()\n",
    "print(\"Counts:\",counts)\n",
    "for count in counts:\n",
    "    if count =='0':\n",
    "        print(\"constant function\")\n",
    "    else:\n",
    "        print(\"alternating function\")"
   ]
  },
  {
   "cell_type": "markdown",
   "id": "4b6a30e5",
   "metadata": {},
   "source": [
    "### Test algorithm with black box <a id='deutsch_circuit'></a>"
   ]
  },
  {
   "cell_type": "code",
   "execution_count": 5,
   "id": "b837a538",
   "metadata": {},
   "outputs": [
    {
     "data": {
      "image/png": "[encoded data removed]",
      "text/plain": [
       "<Figure size 287.294x284.278 with 1 Axes>"
      ]
     },
     "execution_count": 5,
     "metadata": {},
     "output_type": "execute_result"
    }
   ],
   "source": [
    "qc_testoracle = QuantumCircuit(2,1)\n",
    "#qc_testoracle.x(0)\n",
    "qc_testoracle.append(Uf,[0,1]) # apply circuit Uf\n",
    "qc_testoracle.measure(1,0) # measure qubit 0\n",
    "qc_testoracle.draw('mpl')\n",
    "# Simulation\n",
    "\n"
   ]
  },
  {
   "cell_type": "code",
   "execution_count": 6,
   "id": "48e37fcc",
   "metadata": {},
   "outputs": [
    {
     "name": "stdout",
     "output_type": "stream",
     "text": [
      "{'1': 5}\n"
     ]
    }
   ],
   "source": [
    "backend = AerSimulator()\n",
    "qc_transpiled = transpile(qc_testoracle,backend)\n",
    "job = backend.run(qc_transpiled,shots=5)\n",
    "counts = job.result().get_counts()\n",
    "print(counts)"
   ]
  }
 ],
 "metadata": {
  "kernelspec": {
   "display_name": "Python 3 (ipykernel)",
   "language": "python",
   "name": "python3"
  },
  "language_info": {
   "codemirror_mode": {
    "name": "ipython",
    "version": 3
   },
   "file_extension": ".py",
   "mimetype": "text/x-python",
   "name": "python",
   "nbconvert_exporter": "python",
   "pygments_lexer": "ipython3",
   "version": "3.10.11"
  },
  "varInspector": {
   "cols": {
    "lenName": 16,
    "lenType": 16,
    "lenVar": 40
   },
   "kernels_config": {
    "python": {
     "delete_cmd_postfix": "",
     "delete_cmd_prefix": "del ",
     "library": "var_list.py",
     "varRefreshCmd": "print(var_dic_list())"
    },
    "r": {
     "delete_cmd_postfix": ") ",
     "delete_cmd_prefix": "rm(",
     "library": "var_list.r",
     "varRefreshCmd": "cat(var_dic_list()) "
    }
   },
   "types_to_exclude": [
    "module",
    "function",
    "builtin_function_or_method",
    "instance",
    "_Feature"
   ],
   "window_display": false
  }
 },
 "nbformat": 4,
 "nbformat_minor": 5
}
